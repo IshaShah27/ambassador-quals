{
  "nbformat": 4,
  "nbformat_minor": 0,
  "metadata": {
    "kernelspec": {
      "display_name": "Python 3",
      "language": "python",
      "name": "python3"
    },
    "language_info": {
      "codemirror_mode": {
        "name": "ipython",
        "version": 3
      },
      "file_extension": ".py",
      "mimetype": "text/x-python",
      "name": "python",
      "nbconvert_exporter": "python",
      "pygments_lexer": "ipython3",
      "version": "3.6.6"
    },
    "colab": {
      "name": "policy_project_3.ipynb",
      "provenance": [],
      "collapsed_sections": [],
      "include_colab_link": true
    }
  },
  "cells": [
    {
      "cell_type": "markdown",
      "metadata": {
        "id": "view-in-github",
        "colab_type": "text"
      },
      "source": [
        "<a href=\"https://colab.research.google.com/github/IshaShah27/ambassador-quals/blob/master/policy_project_3.ipynb\" target=\"_parent\"><img src=\"https://colab.research.google.com/assets/colab-badge.svg\" alt=\"Open In Colab\"/></a>"
      ]
    },
    {
      "cell_type": "markdown",
      "metadata": {
        "id": "jL3IypxoOJrb",
        "colab_type": "text"
      },
      "source": [
        "# Computing in Context: Public Policy\n",
        "## Project 3\n",
        "\n",
        "---\n",
        "\n",
        "In the final project, you are going to use everything you have learned about exploratory data analysis, aggregating and merging data, and data visualization.\n",
        "\n",
        "Specifically, you need to do five things in this project:\n",
        "\n",
        "- State a policy question you want to answer\n",
        "- Choose a primary dataset that is relevant to your question\n",
        "- Choose a secondary dataset that can be combined with your primary dataset to help answer your question\n",
        "- Combine the datasets\n",
        "- Create a data visualization that answers your question\n",
        "\n",
        "For the datasets, here is some guidance:\n",
        "\n",
        "- For the primary dataset, the unit of observation should make sense and not be overly aggregated.\n",
        "- Your secondary dataset might be more aggregated than your primary dataset.\n",
        "- There are no hard and fast rules, but I encourage you to look for a primary dataset with at least 1000 rows.\n",
        "- If you are having a hard time, you can use any of the datasets from class or lab. If you are sick of those datasets, below are two possible primary datasets you can choose from and two possible secondary datasets you can choose from.\n",
        "- **Students who find their own datasets (that we have not used in class or lab) will receive up to 10 bonus points based on the quality of the datasets you choose.**\n",
        "\n",
        "Possible primary datasets:\n",
        "\n",
        "- [NYC Department of Buildings construction and demolition permits](https://data.cityofnewyork.us/Housing-Development/DOB-Permit-Issuance/ipu4-2q9a)\n",
        "- [NYPD felony, misdemeanor, and violation crime reports](https://data.cityofnewyork.us/Public-Safety/NYPD-Complaint-Data-Historic/qgea-i56i)\n",
        "\n",
        "Possible secondary datasets:\n",
        "\n",
        "- [NYC Neighborhood Tabulation Area demographics](https://data.cityofnewyork.us/City-Government/Demographic-Profiles-of-ACS-5-Year-Estimates-at-th/8cwr-7pqn)\n",
        "- [NOAA NY daily weather data](https://w2.weather.gov/climate/xmacis.php?wfo=okx)\n",
        "\n",
        "To submit the project, upload the completed notebook (with all cells run) to Courseworks.\n",
        "\n",
        "**We encourage you to work in groups of 3 on this project, but you have the option to work alone if you like.**"
      ]
    },
    {
      "cell_type": "markdown",
      "metadata": {
        "id": "QFbK4-2HOJrc",
        "colab_type": "text"
      },
      "source": [
        "---\n",
        "\n",
        "### Task 1\n",
        "\n",
        "State the policy question you want to answer in one sentence."
      ]
    },
    {
      "cell_type": "markdown",
      "metadata": {
        "id": "QKgXFwpZOJre",
        "colab_type": "text"
      },
      "source": [
        "1. Are areas with high student loan debt likely to be areas with high car default loans as well?\n",
        "2. **Is there a connection between the type of ambassador that is appointed to a country (either career or political) and whether that nation has an autocratic regime (i.e., are nations with autocratic parties more or less likely to have career foreign service officers as ambassadors?**\n",
        "3. Is there a relationship between the weather in NYC on a seasonal level and restaurant defaults? (I.e., do more businesses close in years with extreme weather incidents than otherwise?)\n",
        "4. Where are the people with large contributions to IRA accounts, and what is the connection to the number of loans in default in that state? (Or, is there some sort of measure of financial literacy in different states?)\n",
        "5. Minority-owned lending institutions - what has been happening to them over time compared to other institutions of a similar size, compared to GDP growth?\n",
        "6. Shooting incidents have date and time - are they also delayed due to weather? Or are there any other factors that influence days until a shooting is resolved? Including neighborhood - not just by race"
      ]
    },
    {
      "cell_type": "markdown",
      "metadata": {
        "id": "rsQ0_Cv2OJrf",
        "colab_type": "text"
      },
      "source": [
        "---\n",
        "\n",
        "### Task 2\n",
        "\n",
        "Describe the primary dataset you are using to help answer this question. Please include:\n",
        "\n",
        "- The source of the dataset\n",
        "- What each row in the dataset represents\n",
        "- Which columns are relevant to your analysis and what they represent"
      ]
    },
    {
      "cell_type": "markdown",
      "metadata": {
        "id": "wIGLWLgWOJrg",
        "colab_type": "text"
      },
      "source": [
        "My primary dataset is of the qualifications of each U.S. ambassador appointed from 1981 to 2018, where each row describes an individual appointee-year-country combination. \n",
        "- The variable for each appointee that is most relevant to my analysis is whether the appointee is a career foreign service officer. I also plan to use variables indicating whether they can speak the principal language of the country to which they have been appointed and whether they have experience in the host region in future analyses. \n",
        "- Other variables such as year of appointment and host country will be relevant for joining the primary and secondary datasets. \n",
        "- The dataset was assembled by Ryan Scoville, a researcher on international law at Marquette University Law School and a writer for the Lawfare blog."
      ]
    },
    {
      "cell_type": "markdown",
      "metadata": {
        "id": "RMhjZlnjOJrh",
        "colab_type": "text"
      },
      "source": [
        "Read in your primary dataset and show us the first five rows."
      ]
    },
    {
      "cell_type": "code",
      "metadata": {
        "id": "Cz01A1lYOJri",
        "colab_type": "code",
        "colab": {}
      },
      "source": [
        ""
      ],
      "execution_count": 0,
      "outputs": []
    },
    {
      "cell_type": "markdown",
      "metadata": {
        "id": "6UWoI8zDOJrl",
        "colab_type": "text"
      },
      "source": [
        "---\n",
        "\n",
        "### Task 3\n",
        "\n",
        "Describe the secondary dataset you are using to help answer your question. Please include:\n",
        "\n",
        "- The source of the dataset\n",
        "- What each row in the dataset represents\n",
        "- Which columns are relevant to your analysis and what they represent"
      ]
    },
    {
      "cell_type": "markdown",
      "metadata": {
        "id": "txwU0ccBOJrm",
        "colab_type": "text"
      },
      "source": [
        ""
      ]
    },
    {
      "cell_type": "markdown",
      "metadata": {
        "id": "tmTxo8ieOJrm",
        "colab_type": "text"
      },
      "source": [
        "Read in your secondary dataset and show us the first five rows."
      ]
    },
    {
      "cell_type": "code",
      "metadata": {
        "id": "Z5x9vuc2OJrn",
        "colab_type": "code",
        "colab": {}
      },
      "source": [
        ""
      ],
      "execution_count": 0,
      "outputs": []
    },
    {
      "cell_type": "markdown",
      "metadata": {
        "id": "Mn0vMzAVOJrp",
        "colab_type": "text"
      },
      "source": [
        "---\n",
        "\n",
        "### Task 4\n",
        "\n",
        "Combine your primary and secondary dataset. Follow the best practices we discussed in lecture 4 for mergining datasets."
      ]
    },
    {
      "cell_type": "code",
      "metadata": {
        "id": "8zQWJ5OyOJrp",
        "colab_type": "code",
        "colab": {}
      },
      "source": [
        ""
      ],
      "execution_count": 0,
      "outputs": []
    },
    {
      "cell_type": "markdown",
      "metadata": {
        "id": "Y-5RVlDCOJrr",
        "colab_type": "text"
      },
      "source": [
        "---\n",
        "\n",
        "### Task 5\n",
        "\n",
        "Create a data visualization that answers the question you posed in task 1. Follow the best practices we discussed in lecture 5 for visualizing data."
      ]
    },
    {
      "cell_type": "code",
      "metadata": {
        "id": "bjv8ti6iOJrs",
        "colab_type": "code",
        "colab": {}
      },
      "source": [
        ""
      ],
      "execution_count": 0,
      "outputs": []
    }
  ]
}